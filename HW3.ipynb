{
 "cells": [
  {
   "cell_type": "code",
   "execution_count": 87,
   "id": "b461c0c1-fe7e-4008-83c5-32af0e11f370",
   "metadata": {},
   "outputs": [],
   "source": [
    "import numpy as np\n",
    "from matplotlib import pyplot as plt\n",
    "from scipy.stats import uniform\n",
    "from numpy import random"
   ]
  },
  {
   "cell_type": "markdown",
   "id": "0a120a78-2f00-44cb-9d91-bb822c2189a9",
   "metadata": {},
   "source": [
    "# Problem 1 estimating $\\pi$"
   ]
  },
  {
   "cell_type": "code",
   "execution_count": 49,
   "id": "b5433b33-a014-47f8-b2fb-b64326d9d43c",
   "metadata": {},
   "outputs": [
    {
     "name": "stdout",
     "output_type": "stream",
     "text": [
      "0.004\n"
     ]
    },
    {
     "data": {
      "image/png": "[encoded data removed]",
      "text/plain": [
       "<Figure size 432x288 with 1 Axes>"
      ]
     },
     "metadata": {
      "needs_background": "light"
     },
     "output_type": "display_data"
    }
   ],
   "source": [
    "# # a. Generate N=1000 random points (x,y) within a square by requiring the range of x and y are both within [0, 1].\n",
    "\n",
    "# points = np.zeros((1000, 2), dtype=object)\n",
    "\n",
    "\n",
    "# for i in range(1000):\n",
    "#     points[i, 0] = np.random.random([1])\n",
    "#     points[i, 1] = np.random.random([1])\n",
    "\n",
    "\n",
    "# for j in range (1000):\n",
    "#     if np.sqrt(points[j, 0] ** 2 + points[j, 1] **2 ) < 1:\n",
    "#         plt.scatter(points[j, 0], points[j, 1], s=None, c='r')\n",
    "#     else:\n",
    "#         plt.scatter(points[j, 0], points[j, 1], s=None, c='b')\n",
    "        \n",
    "        \n",
    "# x = np.linspace(0, 1, 1000)\n",
    "\n",
    "# plt.plot(x, np.sqrt(1 - x **2 ), '-k', lw=3)\n",
    "\n",
    "\n",
    "# # c. Count number of points inside the unit circle, and estimate the value and uncertainty of π\n",
    "\n",
    "# x = points[:, 0]\n",
    "# y = points[:, 1]\n",
    "\n",
    "# z = np.zeros(1000)\n",
    "\n",
    "# for i in range(1000):\n",
    "#     z[i]= np.sqrt(x[i]**2 + y[i]**2)\n",
    "\n",
    "# count_inside = len( np.where(z < 1.) )\n",
    "# pi = 1.*count_inside/1000 * 4.\n",
    "\n",
    "# print(pi)\n",
    "    \n",
    "# # d. Repeat steps abobe with N=10K and 1000K. Discuss the results in terms of numerical consistency with known π \n",
    "# # value, and scaling rule of the uncertainty."
   ]
  },
  {
   "cell_type": "code",
   "execution_count": null,
   "id": "55cdb464-2bc0-4c57-8d08-519acaac1ae8",
   "metadata": {},
   "outputs": [
    {
     "name": "stdout",
     "output_type": "stream",
     "text": [
      "For N = 1000, the estimate of pi is 4.0\n",
      "For N = 10000, the estimate of pi is 4.0\n",
      "For N = 10000, the estimate of pi is 4.0\n"
     ]
    }
   ],
   "source": [
    "# a. Generate N=1000 random points (x,y) within a square by requiring the range of x and y are both within [0, 1].\n",
    "\n",
    "# b. Visualize the result with red dots when data points are inside the unit circle (otherwise blue dots). \n",
    "# In the figure, draw the unit circle as boundar line.\n",
    "\n",
    "def area(N):\n",
    "    points = np.zeros((N, 2), dtype=object)\n",
    "    for i in range(N):\n",
    "        points[i, 0] = np.random.random([1])\n",
    "        points[i, 1] = np.random.random([1])\n",
    "    for j in range (N):\n",
    "        if np.sqrt(points[j, 0] ** 2 + points[j, 1] **2 ) < 1:\n",
    "            plt.scatter(points[j, 0], points[j, 1], s=None, c='r')\n",
    "        else:\n",
    "            plt.scatter(points[j, 0], points[j, 1], s=None, c='b')\n",
    "    x = np.linspace(0, 1, N)\n",
    "    plt.plot(x, np.sqrt(1 - x **2 ), '-k', lw=3)\n",
    "    plt.xlabel('x')\n",
    "    plt.ylabel('y')\n",
    "    plt.title('Estimating pi with a random sample and unit circl')\n",
    "plt.show()\n",
    "    \n",
    "area(1000)\n",
    "\n",
    "\n",
    "# c. Count number of points inside the unit circle, and estimate the value and uncertainty of π\n",
    "def estimate_pi(N):\n",
    "    points = np.zeros((N, 2), dtype=object)\n",
    "    x = points[:, 0]\n",
    "    y = points[:, 1]\n",
    "    z = np.zeros(N)\n",
    "    def inside_circle(points):\n",
    "        inside = []\n",
    "        for i in range(N):\n",
    "            if np.sqrt(points[i, 0] ** 2 + points[i, 1] ** 2) < 1:\n",
    "                inside.append(1)\n",
    "            else:\n",
    "                inside.append(0)\n",
    "        return inside\n",
    "    inside = inside_circle(points)\n",
    "    density = 4. * np.count_nonzero(inside) / N\n",
    "    return density\n",
    "    \n",
    "print('For N = 1000, the estimate of pi is ' + str(estimate_pi(1000)))\n",
    "# d. Repeat steps abobe with N=10K and 1000K. Discuss the results in terms of numerical consistency with known π \n",
    "# # value, and scaling rule of the uncertainty.\n",
    "\n",
    "print('For N = 10000, the estimate of pi is ' + str(estimate_pi(10000)))\n",
    "area(10000)\n",
    "print('For N = 10000, the estimate of pi is ' + str(estimate_pi(100000)))\n",
    "area(100000)"
   ]
  },
  {
   "cell_type": "markdown",
   "id": "447fd4fd-bd9d-4d57-86b0-76aabb2bd340",
   "metadata": {},
   "source": [
    "# Problem 2 Parabola Distribution"
   ]
  },
  {
   "cell_type": "markdown",
   "id": "efb73b82-c0b6-4302-9b75-d5aaa968439a",
   "metadata": {},
   "source": [
    "## Rejection Method"
   ]
  },
  {
   "cell_type": "code",
   "execution_count": 85,
   "id": "fd2828af-5074-4607-9e8f-c8defc43f37f",
   "metadata": {},
   "outputs": [],
   "source": [
    "# def f(x):\n",
    "#     return x**2\n",
    "\n",
    "# s = np.zeros(10000, dtype=object)\n",
    "\n",
    "# for i in range(10000):\n",
    "#     x = np.random.uniform(-1, 1)\n",
    "#     y = np.random.uniform(0, f(1))\n",
    "#     if f(x) < y:\n",
    "#         samples[i] = x\n",
    "\n",
    "def keep(N):   \n",
    "    i = 0\n",
    "    accept = np.zeros(N)\n",
    "    def f(x):\n",
    "        return x ** 2\n",
    "    end = f(1)\n",
    "    while i < N:\n",
    "        x = random.uniform(low=-1., high=1.0, size=1)\n",
    "        y = random.uniform(low=0., high=end, size=1)\n",
    "        w = f(x)\n",
    "        if w >= y:            \n",
    "            accept[i] = x\n",
    "            i = i + 1\n",
    "    return accept\n",
    "\n",
    "#Generate this sample until accepted events N=10000 events\n",
    "rejection_sample = keep(10000)\n"
   ]
  },
  {
   "cell_type": "markdown",
   "id": "908a195c-292a-40fd-9f6a-f4a8bf99ad87",
   "metadata": {},
   "source": [
    "## Inverse Transformation Method"
   ]
  },
  {
   "cell_type": "code",
   "execution_count": null,
   "id": "b523bec6-6979-43c6-bbc7-1e3d40640007",
   "metadata": {},
   "outputs": [],
   "source": [
    "# f(x) = x^2\n",
    "# y = F(x) = (x^3)/3\n",
    "\n",
    "# x = F^-1(y) = (3^(1/3)) * (x^(1/3))\n",
    "\n",
    "def transformed_inv(x):\n",
    "    y = (3^(1/3)) * (x^(1/3))\n",
    "    return y\n",
    "\n",
    "\n",
    "\n",
    "\n",
    "\n"
   ]
  },
  {
   "cell_type": "code",
   "execution_count": null,
   "id": "c5bd5ea0-bf95-4150-bf67-61c094d8d8a5",
   "metadata": {},
   "outputs": [],
   "source": [
    "s = np.zeros(10000, dtype=object)\n",
    "o = np.zeros(10000)\n",
    "def f(x):\n",
    "    return x**2"
   ]
  }
 ],
 "metadata": {
  "kernelspec": {
   "display_name": "Python 3 (ipykernel)",
   "language": "python",
   "name": "python3"
  },
  "language_info": {
   "codemirror_mode": {
    "name": "ipython",
    "version": 3
   },
   "file_extension": ".py",
   "mimetype": "text/x-python",
   "name": "python",
   "nbconvert_exporter": "python",
   "pygments_lexer": "ipython3",
   "version": "3.9.12"
  }
 },
 "nbformat": 4,
 "nbformat_minor": 5
}
