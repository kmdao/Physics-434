{
 "cells": [
  {
   "cell_type": "code",
   "execution_count": 33,
   "id": "681dd556-08d7-43e1-94ce-646a02db03bb",
   "metadata": {},
   "outputs": [],
   "source": [
    "import numpy as np\n",
    "from numpy import random\n",
    "import scipy\n",
    "from scipy.stats import beta\n",
    "from scipy.stats import uniform\n",
    "from scipy.stats import norm\n",
    "from scipy.optimize import minimize\n",
    "from matplotlib import pyplot as plt\n",
    "import math"
   ]
  },
  {
   "cell_type": "markdown",
   "id": "f564192e-1414-4952-8102-0a0d74d29979",
   "metadata": {},
   "source": [
    "# Rejection Method\n",
    "The probability density function for beta is:\n",
    "\\begin{align*}\n",
    "    f(x,a,b)=\\frac{Γ(a+b)x^{a−1}∗(1−x)^{b−1}}{Γ(a)Γ(b)}\n",
    "\\end{align*}\n",
    "for $0<=x<=1$, $a>0$, $b>0$, where $Γ$ is the gamma function (scipy.special.gamma()). beta takes a and b as shape paramters. In this exercise, we will use two different sampling methods to generate $beta(\\alpha=5,\\beta=3)$. See the distribution below. In this lab, we will try two different simulation methods and compare their performance.\n",
    "\n"
   ]
  },
  {
   "cell_type": "code",
   "execution_count": 5,
   "id": "d6755645-201b-452c-84c1-dab39a064450",
   "metadata": {},
   "outputs": [
    {
     "data": {
      "image/png": "[encoded data removed]",
      "text/plain": [
       "<Figure size 360x270 with 1 Axes>"
      ]
     },
     "metadata": {
      "needs_background": "light"
     },
     "output_type": "display_data"
    }
   ],
   "source": [
    "x = np.linspace(0, 1, 1002)[1:-1]\n",
    "fig, ax = plt.subplots(figsize=(5, 3.75))\n",
    "a=4\n",
    "b=3\n",
    "dist = beta(a, b)\n",
    "plt.plot(x, dist.pdf(x), ls=\"-\", c='black',label=r'$\\alpha=%.1f,\\ \\beta=%.1f$' % (a, b))\n",
    "\n",
    "plt.xlim(0, 1)\n",
    "plt.ylim(0, 3)\n",
    "\n",
    "plt.xlabel('$x$')\n",
    "plt.ylabel(r'$p(x|\\alpha,\\beta)$')\n",
    "plt.title('Beta Distribution')\n",
    "\n",
    "plt.legend(loc=0)\n",
    "plt.show()"
   ]
  },
  {
   "cell_type": "markdown",
   "id": "4b058461-652d-4e18-a89c-ccb1e02d41a9",
   "metadata": {},
   "source": [
    "### a. Uniform Sampling"
   ]
  },
  {
   "cell_type": "code",
   "execution_count": 9,
   "id": "09a10f7c-cc31-4bf8-801a-9e37ea0d40d7",
   "metadata": {},
   "outputs": [
    {
     "name": "stdout",
     "output_type": "stream",
     "text": [
      "2403\n"
     ]
    }
   ],
   "source": [
    "# Find max of beta, beta_max\n",
    "a = 5\n",
    "b = 3\n",
    "d = beta(a, b)\n",
    "\n",
    "# beta_max\n",
    "x_max = (a - 1) / (a + b - 2)\n",
    "beta_max = d.pdf(x_max)\n",
    "\n",
    "# Generate a uniform distribution sample x between [0,1]\n",
    "x = random.uniform(low=0., high=1.0, size=1000)\n",
    "\n",
    "# Generate another uniform distribution sample between [0, beta_max]\n",
    "y = random.uniform(low=0., high=beta_max, size=1000)\n",
    "\n",
    "# For each x_i, compute the event weight w(x_i) and only keep x_i when w(x_i)<y w(x)=f(x)/g(x)=targetdist/pdf\n",
    "\n",
    "# def g(x):\n",
    "#     return norm.pdf(x)\n",
    "\n",
    "# def w(x_i):\n",
    "#     return f(x_i) / g(x_i)\n",
    "   \n",
    "    \n",
    "def keep(N):   \n",
    "    i = 0\n",
    "    accept = np.zeros(N)\n",
    "    iterations = 0 \n",
    "    def W(x):\n",
    "        a = 4\n",
    "        b = 5\n",
    "        return beta.pdf(x, a, b)\n",
    "    while i < N:\n",
    "        iterations = iterations + 1\n",
    "        x = random.uniform(low=0., high=1.0, size=1)\n",
    "        y = random.uniform(low=0., high=beta_max, size=1)\n",
    "        w = W(x)\n",
    "        if w >= y:            \n",
    "            accept[i] = x\n",
    "            i = i + 1\n",
    "    return accept, iterations\n",
    "\n",
    "#Generate this sample until accepted events N=1000 events\n",
    "keep, iterations = keep(1000)\n",
    "\n",
    "print(iterations)\n"
   ]
  },
  {
   "cell_type": "markdown",
   "id": "a58d988c-7f75-48e3-880d-2ac3d6c2779a",
   "metadata": {},
   "source": [
    "1. What is the event weight formula? <br>\n",
    "The event weight formula is \n",
    "\\begin{gather*}\n",
    "w(x) = \\frac{f(x)}{g(x)} \\\\\n",
    "\\end{gather*}\n",
    "where, for a sample of y that we are comparing w(x) to that is uniform on the scaled interval $[0, beta_{max}]$\n",
    "\\begin{gather*}\n",
    "g(x) = 1  \\\\\n",
    "so, \\\\\n",
    "w(x) = \\beta(\\alpha=4, \\beta=5)\n",
    "\\end{gather*}\n",
    "\n",
    "2. What is the total number of samplings (pairs of x, y) required for this MC simulation? <br>\n",
    "The total number of samplings (pairs of x, y) required for this MC simulation is 2404, given by 2404 iterations of the while loop , which runs i number of iterations of adding points to the accepted values array until the desired i=N=1000 entries are filled. When i is no longer less than N, meaning that the array has N=1000 entries of acceptable points' x values, the while loop will break. Each iteration of the loop is kept track of by a counter, named iterations in this case, which starts from 0 and counts the number of samples taken by increasing by 1 with every pass through the while loop. <br>\n",
    "We can see that to get N=1000 accepted values, we had to take over twice as many sample points from the uniform distributution. This shows that this method of sampling to model the target function (beta function) is inefficient, as we are rejecting more points than accepting for a given N. This makes sense, as the shape of the uniform distribution does not at all resemble that of the beta distribution, so there are many points under the uniform distribution that are not also under the beta distribution. "
   ]
  },
  {
   "cell_type": "markdown",
   "id": "141dfb79-700d-4114-b72c-905794c07565",
   "metadata": {},
   "source": [
    "### b. Gaussian Sampling"
   ]
  },
  {
   "cell_type": "code",
   "execution_count": 145,
   "id": "2e645a26-721e-4079-90f8-c810cb831780",
   "metadata": {},
   "outputs": [
    {
     "name": "stdout",
     "output_type": "stream",
     "text": [
      "The number of samples required for N=1000 accepted events is 1831\n"
     ]
    }
   ],
   "source": [
    "def keep2(N):   \n",
    "    i = 0\n",
    "    accept = np.zeros(N)\n",
    "    def W(x):\n",
    "        a = 4\n",
    "        b = 5\n",
    "        return beta.pdf(x, a, b) \n",
    "    iterations2 = 0\n",
    "    while i < N:\n",
    "        x = random.normal(loc=0.6, scale=0.2,size=1)\n",
    "        y = random.uniform(low=0., high=beta_max, size=1)\n",
    "        w = W(x)\n",
    "        iterations2 = iterations2 + 1\n",
    "        if w >= y:            \n",
    "            accept[i] = x\n",
    "            i = i + 1\n",
    "    return accept, iterations2\n",
    "\n",
    "#Generate this sample until accepted events N=1000 events\n",
    "keep, iterations2 = keep2(1000)\n",
    "print('The number of samples required for N=1000 accepted events is ' + str(iterations2))\n"
   ]
  },
  {
   "cell_type": "markdown",
   "id": "71587f23-0903-4506-bbff-8bd2dfc73e58",
   "metadata": {},
   "source": [
    "1. What is your choice of Gaussian distribtuion parameter for the importance sample? <br>\n",
    "I chose a mean of 0.6 and standard deviation of 0.2 such that the normal distribution that we are sampling from has a shape that more closely resembles the beta distribution. The mean shifts the normal distribution such that its peak more closely matches the peak of the beta distribution and the standard deviation adjsuts the width of the entire distribition such that it also more closely matches that of the beta distribuition we are trying to model. \n",
    "2. What is the event weight formula? <br>\n",
    "The event weight formula is, like before, \n",
    "\\begin{gather*}\n",
    "w(x) = \\frac{f(x)}{g(x)} \\\\\n",
    "\\end{gather*}\n",
    "where, for a sample of y that we are comparing w(x) to that is uniform on the scaled interval $[0, beta_{max}]$\n",
    "\\begin{gather*}\n",
    "g(x) = 1  \\\\\n",
    "so, \\\\\n",
    "w(x) = \\beta(\\alpha=4, \\beta=5)\n",
    "\\end{gather*}\n",
    "\n",
    "3. What is the total number of sampling (pairs of x, y) required for this MC simulation? How is this compared with the uniform sampling? <br>\n",
    "The total number of sampling pairs is 1842 to get N=1000 accepted values. This is far less than the number of samples required when sampling from the uniform distribution, which makes sense as the normal distribution more closely resembles the beta distribition, so the probability of a sample of the normal distribtion at a given x having a value that fits within the beta distribution is higher than that with the sample of the uniform distribution. Thus, sampling from a normal distribution with the given mean and standard deviation parameters is a much more efficient method to model the target distribution than the previous method of sampling from a uniform distribution. \n"
   ]
  },
  {
   "cell_type": "markdown",
   "id": "808d72c7-ab7b-405a-a329-d6318de41fad",
   "metadata": {},
   "source": [
    "### c. Visualize"
   ]
  },
  {
   "cell_type": "markdown",
   "id": "0184d8ab-fb10-4d1a-b04a-0e92d5b17111",
   "metadata": {},
   "source": [
    "# Sphere in 3D\n",
    "In this exercise we are going to calculate the mass of a 3D sphere with linearly increasing density. This problem is quite challenging to do analytically, but with Monte Carlo integration it is relatively easy.   <br>\n",
    "Let's first start with the simple problem of determining the mass of a sphere with uniform density \n",
    "ρ0=2kg/m3. The sphere has a radius of 1 meter, and we initially integrate it with N=100 points."
   ]
  },
  {
   "cell_type": "markdown",
   "id": "a8caa2dd-7c55-4f37-85d2-d7134ddf241e",
   "metadata": {},
   "source": [
    "### a. Uniform Density\n",
    "The integral for the volume of a sphere of radius 1 centered at (0,0) is \n",
    "\\begin{equation*}\n",
    "\\int_{-1}^{1}\n",
    "\\end{equation*}\n",
    "Using the Monte Carlo Integration Method, the mass is calculated by:\n",
    "\\begin{gather*}\n",
    "m = \\frac{V}{N}\\sum_{i=1}^{N}f(x,y,z)\n",
    "\\end{gather*}\n",
    "where $V$ is the volume of the cube from which the sample points are taken."
   ]
  },
  {
   "cell_type": "code",
   "execution_count": 153,
   "id": "b78d980d-a590-4b40-917d-1e2c916548b2",
   "metadata": {},
   "outputs": [
    {
     "name": "stdout",
     "output_type": "stream",
     "text": [
      "theoretical mass= 8.377580409572781\n",
      "The mass for N=100 using Monte Carlo integration is 8.96\n",
      "The associated uncertainty for N=100 is 0.008639999999999997\n"
     ]
    },
    {
     "data": {
      "image/png": "[encoded data removed]",
      "text/plain": [
       "<Figure size 432x288 with 1 Axes>"
      ]
     },
     "metadata": {
      "needs_background": "light"
     },
     "output_type": "display_data"
    },
    {
     "data": {
      "image/png": "[encoded data removed]",
      "text/plain": [
       "<Figure size 432x288 with 1 Axes>"
      ]
     },
     "metadata": {
      "needs_background": "light"
     },
     "output_type": "display_data"
    }
   ],
   "source": [
    "theoretical_mass = (8 / 3) * math.pi\n",
    "print('theoretical mass= ' + str(theoretical_mass))\n",
    "\n",
    "# Generate function to calculate mass for N samples\n",
    "def mass(N):\n",
    "    points = np.zeros((N, 3))\n",
    "    points[:, 0] = np.random.uniform(low=-1, high=1, size=N) # Generate N pointsm (xyz) in cube of length 2 centered at origin\n",
    "    points[:, 1] = np.random.uniform(low=-1, high=1, size=N)\n",
    "    points[:, 2] = np.random.uniform(low=-1, high=1, size=N)\n",
    "    def inside_sphere(points): # function makes an array to append 1 (hit) or 0 (miss) for condition of inside sphere of radius=1\n",
    "        inside = []\n",
    "        for i in range(N):\n",
    "            radius = np.sqrt(points[i, 0] ** 2 + points[i, 1] **2 + points[i, 2] ** 2) #eqn of sphere\n",
    "            if  radius < 1:\n",
    "                inside.append(1)\n",
    "            else:\n",
    "                inside.append(0)\n",
    "        return inside\n",
    "    inside = inside_sphere(points)\n",
    "    m = 8 * 2 * np.count_nonzero(inside) / N #V/N *2*count f is sum density*hit\n",
    "    return m\n",
    "\n",
    "# Find mass using samples of 100 to 100k in 100 steps\n",
    "Y = np.linspace(100, 100000, 100, dtype = int)\n",
    "m_list = np.zeros(100)\n",
    "m_variance = np.zeros(100)\n",
    "uncertainty = np.zeros(100)\n",
    "\n",
    "for i in range(100):\n",
    "    m_val = mass(Y[i])\n",
    "    m_list[i] = m_val # list of masses from N of 100 to 100k in 100 steps\n",
    "    uncertainty[i] = np.sqrt(np.var(m_list) / (Y[i] * (Y[i] - 1))) # The mean squared error\n",
    "    \n",
    "m_100 = (mass(100))   \n",
    "print('The mass for N=100 using Monte Carlo integration is ' + str(m_100))\n",
    "uncertainty_100 = uncertainty[0]\n",
    "print('The associated uncertainty for N=100 is ' + str(uncertainty_100))                     \n",
    "\n",
    "# plot mass as a function of N and uncertainty as a function of N\n",
    "\n",
    "plt.plot(Y, m_list)\n",
    "plt.xlabel('N')\n",
    "plt.ylabel('mass')\n",
    "plt.title('Monte Carlo Integration of Mass of a Sphere for N points')\n",
    "plt.show()\n",
    "\n",
    "plt.plot(Y, uncertainty)\n",
    "plt.xlabel('N')\n",
    "plt.ylabel('Uncertainty')\n",
    "plt.title('Uncertainty in Monte Carlo Integration of Mass of a Sphere for N points')\n",
    "plt.show()\n"
   ]
  },
  {
   "cell_type": "markdown",
   "id": "465ac7a1-f89d-4866-a9bb-f6faa064fd48",
   "metadata": {},
   "source": [
    "The monte carlo method converges at a rate of 1/N^2, which can be seen by the shape of the plots of uncertainty as a function of N. Because of the 1/N^2 dependence on the uncertainty, we should see that the fluctuations of the graph of calculated mass values as a function of N around the theoretical mass of 8.37 get smaller with increasing N (following the law of statistics).  "
   ]
  },
  {
   "cell_type": "markdown",
   "id": "e761c51e-0c3f-4af0-9008-7540beb98d95",
   "metadata": {},
   "source": [
    "### b. Linear Density\n",
    "Given linear Density of $p(r) = p_0*r$, the nth moment of the mass distribution is  \n",
    "\\begin{gather*}\n",
    "m_n = \\sum_{j=1}^{N}x^{n}_{j}\\delta{m_j}\n",
    "\\end{gather*}\n",
    "\n"
   ]
  },
  {
   "cell_type": "code",
   "execution_count": 155,
   "id": "ee145807-e7cb-4206-93be-f901ab49cab4",
   "metadata": {},
   "outputs": [
    {
     "name": "stdout",
     "output_type": "stream",
     "text": [
      "The mass of the sphere for N=100 is 5.789623959615385\n",
      "The sampling N that is large enough for uncertainty < 0.01 is [187]\n"
     ]
    }
   ],
   "source": [
    "# Function to determine mass of sphere by monte carlo integration\n",
    "def mass2(N):\n",
    "    points = np.zeros((N, 3))\n",
    "    points[:, 0] = np.random.uniform(low=-1, high=1, size=N) # Generate N points (xyz) in cube of length 2 centered at origin\n",
    "    points[:, 1] = np.random.uniform(low=-1, high=1, size=N)\n",
    "    points[:, 2] = np.random.uniform(low=-1, high=1, size=N) \n",
    "    def inside_sphere2(points): # function makes an array to append 1 (hit) or 0 (miss) for condition of inside sphere of radius=1\n",
    "        inside = []\n",
    "        radius = np.zeros(N)\n",
    "        for i in range(N):\n",
    "            radius[i] = np.sqrt(points[i, 0] ** 2 + points[i, 1] **2 + points[i, 2] ** 2)\n",
    "            if radius[i] < 1:\n",
    "                inside.append(1)\n",
    "            else:\n",
    "                inside.append(0)\n",
    "        return inside, radius\n",
    "    inside, r = inside_sphere2(points) \n",
    "    p_0 = 2      \n",
    "    f_sum = 0 \n",
    "    for j in range(N):\n",
    "        density = p_0 * r[j]\n",
    "        f_sum = f_sum + (density * inside[j])   \n",
    "    m = (8 / N) * f_sum\n",
    "    return m\n",
    "\n",
    "# Calculation of mass for N=100\n",
    "print('The mass of the sphere for N=100 is ' + str(mass2(100)))    \n",
    "\n",
    "\n",
    "\n",
    "# Calculation of mass estimates for N from 100 to 100k in 100 steps\n",
    "Z = np.linspace(100, 100000, 100, dtype = int)\n",
    "step_m_list = np.zeros(100)\n",
    "\n",
    "for i in range(100):\n",
    "    m_val = mass(Y[i])\n",
    "    m_list[i] = m_val # list of masses from N of 100 to 100k in 100 steps\n",
    "    \n",
    "    \n",
    "# Calculation of uncertainties for 200 samples and minimum number of samples for an uncertainty less than 0.01\n",
    "Y = np.linspace(2, 202, 200, dtype = int)\n",
    "m_list = np.zeros(200)\n",
    "m_variance = np.zeros(200)\n",
    "uncertainty = np.zeros(200)\n",
    "\n",
    "for i in range(200):\n",
    "    m_val = mass2(Y[i])\n",
    "    m_list[i] = m_val \n",
    "    uncertainty[i] = np.sqrt(np.var(m_list) / (Y[i] * (Y[i] - 1))) # The mean squared error\n",
    "  \n",
    "    \n",
    "loops = np.asarray(np.where(uncertainty<0.01))\n",
    "minimum_loops = loops[:, 1]\n",
    "\n",
    "print('The sampling N that is large enough for uncertainty < 0.01 is ' + str(minimum_loops))\n",
    "\n"
   ]
  },
  {
   "cell_type": "markdown",
   "id": "0f75a298-5b50-4004-a0a2-74aec782ab68",
   "metadata": {},
   "source": [
    "### Bonus\n",
    "Consider a density that is an unit exponential function of the radius according to\n",
    "\\begin{gather*}\n",
    "p(r)=\\frac{1}{p_0}e^{-p_0r}\n",
    "\\end{gather*}"
   ]
  },
  {
   "cell_type": "code",
   "execution_count": 158,
   "id": "bc739005-16f0-4adb-b287-65acbcba54c0",
   "metadata": {},
   "outputs": [
    {
     "name": "stdout",
     "output_type": "stream",
     "text": [
      "The calculated mass for N=100 is 0.5041343187941645\n"
     ]
    }
   ],
   "source": [
    "def mass3(N):\n",
    "    points = np.zeros((N, 3))\n",
    "    points[:, 0] = np.random.uniform(low=-1, high=1, size=N) # Generate N points (xyz) in cube of length 2 centered at origin\n",
    "    points[:, 1] = np.random.uniform(low=-1, high=1, size=N)\n",
    "    points[:, 2] = np.random.uniform(low=-1, high=1, size=N) \n",
    "    def inside_sphere3(points): # function makes an array to append 1 (hit) or 0 (miss) for condition of inside sphere of radius=1\n",
    "        inside = []\n",
    "        radius = np.zeros(N)\n",
    "        for i in range(N):\n",
    "            radius[i] = np.sqrt(points[i, 0] ** 2 + points[i, 1] **2 + points[i, 2] ** 2)\n",
    "            if radius[i] < 1:\n",
    "                inside.append(1)\n",
    "            else:\n",
    "                inside.append(0)\n",
    "        return inside, radius\n",
    "    inside, r = inside_sphere3(points) \n",
    "    p_0 = 2      \n",
    "    f_sum = 0 \n",
    "    for j in range(N):\n",
    "        density = (1 / p_0) * np.exp(-p_0 * r[j])\n",
    "        f_sum = f_sum + (density * inside[j])   \n",
    "    m = (8 / N) * f_sum\n",
    "    return m\n",
    "\n",
    "print('The calculated mass for N=100 is ' + str(mass3(100)))\n",
    "\n"
   ]
  },
  {
   "cell_type": "code",
   "execution_count": null,
   "id": "9f922d84-3a1c-48d3-8e7f-99a3656596bf",
   "metadata": {},
   "outputs": [],
   "source": []
  }
 ],
 "metadata": {
  "kernelspec": {
   "display_name": "Python 3 (ipykernel)",
   "language": "python",
   "name": "python3"
  },
  "language_info": {
   "codemirror_mode": {
    "name": "ipython",
    "version": 3
   },
   "file_extension": ".py",
   "mimetype": "text/x-python",
   "name": "python",
   "nbconvert_exporter": "python",
   "pygments_lexer": "ipython3",
   "version": "3.9.12"
  }
 },
 "nbformat": 4,
 "nbformat_minor": 5
}
