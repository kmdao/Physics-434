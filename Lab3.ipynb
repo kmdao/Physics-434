{
 "cells": [
  {
   "cell_type": "code",
   "execution_count": 4,
   "id": "681dd556-08d7-43e1-94ce-646a02db03bb",
   "metadata": {},
   "outputs": [],
   "source": [
    "import numpy as np\n",
    "from numpy import random\n",
    "import scipy\n",
    "from scipy.stats import beta\n",
    "from scipy.stats import uniform\n",
    "from scipy.stats import norm\n",
    "from scipy.optimize import minimize\n",
    "from matplotlib import pyplot as plt\n",
    "import math"
   ]
  },
  {
   "cell_type": "markdown",
   "id": "f564192e-1414-4952-8102-0a0d74d29979",
   "metadata": {},
   "source": [
    "# Rejection Method\n",
    "The probability density function for beta is:\n",
    "\\begin{align*}\n",
    "    f(x,a,b)=\\frac{Γ(a+b)x^{a−1}∗(1−x)^{b−1}}{Γ(a)Γ(b)}\n",
    "\\end{align*}\n",
    "for $0<=x<=1$, $a>0$, $b>0$, where $Γ$ is the gamma function (scipy.special.gamma()). beta takes a and b as shape paramters. In this exercise, we will use two different sampling methods to generate $beta(\\alpha=5,\\beta=3)$. See the distribution below. In this lab, we will try two different simulation methods and compare their performance.\n",
    "\n"
   ]
  },
  {
   "cell_type": "code",
   "execution_count": 5,
   "id": "d6755645-201b-452c-84c1-dab39a064450",
   "metadata": {},
   "outputs": [
    {
     "data": {
      "image/png": "[encoded data removed]",
      "text/plain": [
       "<Figure size 360x270 with 1 Axes>"
      ]
     },
     "metadata": {
      "needs_background": "light"
     },
     "output_type": "display_data"
    }
   ],
   "source": [
    "x = np.linspace(0, 1, 1002)[1:-1]\n",
    "fig, ax = plt.subplots(figsize=(5, 3.75))\n",
    "a=4\n",
    "b=3\n",
    "dist = beta(a, b)\n",
    "plt.plot(x, dist.pdf(x), ls=\"-\", c='black',label=r'$\\alpha=%.1f,\\ \\beta=%.1f$' % (a, b))\n",
    "\n",
    "plt.xlim(0, 1)\n",
    "plt.ylim(0, 3)\n",
    "\n",
    "plt.xlabel('$x$')\n",
    "plt.ylabel(r'$p(x|\\alpha,\\beta)$')\n",
    "plt.title('Beta Distribution')\n",
    "\n",
    "plt.legend(loc=0)\n",
    "plt.show()"
   ]
  },
  {
   "cell_type": "markdown",
   "id": "4b058461-652d-4e18-a89c-ccb1e02d41a9",
   "metadata": {},
   "source": [
    "### a. Uniform Sampling"
   ]
  },
  {
   "cell_type": "code",
   "execution_count": 9,
   "id": "09a10f7c-cc31-4bf8-801a-9e37ea0d40d7",
   "metadata": {},
   "outputs": [
    {
     "name": "stdout",
     "output_type": "stream",
     "text": [
      "2403\n"
     ]
    }
   ],
   "source": [
    "# Find max of beta, beta_max\n",
    "a = 5\n",
    "b = 3\n",
    "d = beta(a, b)\n",
    "\n",
    "# beta_max\n",
    "x_max = (a - 1) / (a + b - 2)\n",
    "beta_max = d.pdf(x_max)\n",
    "\n",
    "# Generate a uniform distribution sample x between [0,1]\n",
    "x = random.uniform(low=0., high=1.0, size=1000)\n",
    "\n",
    "# Generate another uniform distribution sample between [0, beta_max]\n",
    "y = random.uniform(low=0., high=beta_max, size=1000)\n",
    "\n",
    "# For each x_i, compute the event weight w(x_i) and only keep x_i when w(x_i)<y w(x)=f(x)/g(x)=targetdist/pdf\n",
    "\n",
    "# def g(x):\n",
    "#     return norm.pdf(x)\n",
    "\n",
    "# def w(x_i):\n",
    "#     return f(x_i) / g(x_i)\n",
    "   \n",
    "    \n",
    "def keep(N):   \n",
    "    i = 0\n",
    "    accept = np.zeros(N)\n",
    "    iterations = 0 \n",
    "    def W(x):\n",
    "        a = 4\n",
    "        b = 5\n",
    "        return beta.pdf(x, a, b)\n",
    "    while i < N:\n",
    "        iterations = iterations + 1\n",
    "        x = random.uniform(low=0., high=1.0, size=1)\n",
    "        y = random.uniform(low=0., high=beta_max, size=1)\n",
    "        w = W(x)\n",
    "        if w >= y:            \n",
    "            accept[i] = x\n",
    "            i = i + 1\n",
    "    return accept, iterations\n",
    "\n",
    "#Generate this sample until accepted events N=1000 events\n",
    "keep, iterations = keep(1000)\n",
    "\n",
    "print(iterations)\n"
   ]
  },
  {
   "cell_type": "markdown",
   "id": "a58d988c-7f75-48e3-880d-2ac3d6c2779a",
   "metadata": {},
   "source": [
    "1. What is the event weight formula? <br>\n",
    "The event weight formula is \n",
    "\\begin{gather*}\n",
    "w(x) = \\frac{f(x)}{g(x)} \\\\\n",
    "\\end{gather*}\n",
    "where, for a sample of y that we are comparing w(x) to that is uniform on the scaled interval $[0, beta_{max}]$\n",
    "\\begin{gather*}\n",
    "g(x) = 1  \\\\\n",
    "so, \\\\\n",
    "w(x) = \\beta(\\alpha=4, \\beta=5)\n",
    "\\end{gather*}\n",
    "\n",
    "2. What is the total number of samplings (pairs of x, y) required for this MC simulation? <br>\n",
    "The total number of samplings (pairs of x, y) required for this MC simulation is 2404, which is given by 2404 iterations of the while loop , which runs i number of iterations of adding to the accepted values array until there are i=N entries. When i is no longer less than N, meaning that the array is full of the desired nuber of accepted entires, the while loop will break. Each iteration of the loop is counter by a counter, named iterations in this case, which counts the number of samples taken with every pass through the while loop. We can see that for N=1000 accepted values, it takes more than twice the number of samples given that we are sampling from a unifrom distribution on the interval of $[0, beta_{max}]$."
   ]
  },
  {
   "cell_type": "markdown",
   "id": "141dfb79-700d-4114-b72c-905794c07565",
   "metadata": {},
   "source": [
    "### b. Gaussian Sampling"
   ]
  },
  {
   "cell_type": "code",
   "execution_count": 12,
   "id": "2e645a26-721e-4079-90f8-c810cb831780",
   "metadata": {},
   "outputs": [
    {
     "name": "stdout",
     "output_type": "stream",
     "text": [
      "1842\n"
     ]
    }
   ],
   "source": [
    "def keep2(N):   \n",
    "    i = 0\n",
    "    accept = np.zeros(N)\n",
    "    def W(x):\n",
    "        a = 4\n",
    "        b = 5\n",
    "        return beta.pdf(x, a, b) \n",
    "    iterations2 = 0\n",
    "    while i < N:\n",
    "        x = random.normal(loc=0.6, scale=0.2,size=1)\n",
    "        y = random.uniform(low=0., high=beta_max, size=1)\n",
    "        w = W(x)\n",
    "        iterations2 = iterations2 + 1\n",
    "        if w >= y:            \n",
    "            accept[i] = x\n",
    "            i = i + 1\n",
    "    return accept, iterations2\n",
    "\n",
    "#Generate this sample until accepted events N=1000 events\n",
    "keep, iterations2 = keep2(1000)\n",
    "print(iterations2)\n"
   ]
  },
  {
   "cell_type": "markdown",
   "id": "71587f23-0903-4506-bbff-8bd2dfc73e58",
   "metadata": {},
   "source": [
    "1. What is your choice of Gaussian distribtuion parameter for the importance sample? <br>\n",
    "I chose a mean of 0.6 and standard deviation of 0.2 such that the normal distribution that we are sampling from has a shape that more closely resembles the beta distribution. The mean shifts the normal distribution such that its peak more closely matches the peak of the beta distribition and the standard deviation adjsuts the width of the entire distribition such that it also more closely matches that of the beta distribuitio we are tryijg to sample for. \n",
    "2. What is the event weight formula? <br>\n",
    "The event weight formula is, like before, \n",
    "\\begin{gather*}\n",
    "w(x) = \\frac{f(x)}{g(x)} \\\\\n",
    "\\end{gather*}\n",
    "where, for a sample of y that we are comparing w(x) to that is uniform on the scaled interval $[0, beta_{max}]$\n",
    "\\begin{gather*}\n",
    "g(x) = 1  \\\\\n",
    "so, \\\\\n",
    "w(x) = \\beta(\\alpha=4, \\beta=5)\n",
    "\\end{gather*}\n",
    "\n",
    "3. What is the total number of sampling (pairs of x, y) required for this MC simulation? How is this compared with the uniform sampling? <br>\n",
    "The total number of sampling pairs is 1842 to get N=1000 accepted values. This is far less than the number of samples required when sampling from the uniform distribution, which makes sense as the normal distribution more closely resembles the beta distribition, so the probability of a sample of the normal distribtion at a given x having a value that fits within the beta distribution is higher than that with the sample of the uniform distribution. \n"
   ]
  },
  {
   "cell_type": "markdown",
   "id": "808d72c7-ab7b-405a-a329-d6318de41fad",
   "metadata": {},
   "source": [
    "### c. Visualize"
   ]
  },
  {
   "cell_type": "markdown",
   "id": "0184d8ab-fb10-4d1a-b04a-0e92d5b17111",
   "metadata": {},
   "source": [
    "# Sphere in 3D\n",
    "In this exercise we are going to calculate the mass of a 3D sphere with linearly increasing density. This problem is quite challenging to do analytically, but with Monte Carlo integration it is relatively easy.   <br>\n",
    "Let's first start with the simple problem of determining the mass of a sphere with uniform density \n",
    "ρ0=2kg/m3. The sphere has a radius of 1 meter, and we initially integrate it with N=100 points."
   ]
  },
  {
   "cell_type": "markdown",
   "id": "a8caa2dd-7c55-4f37-85d2-d7134ddf241e",
   "metadata": {},
   "source": [
    "### a. Uniform Density"
   ]
  },
  {
   "cell_type": "code",
   "execution_count": 16,
   "id": "b78d980d-a590-4b40-917d-1e2c916548b2",
   "metadata": {},
   "outputs": [
    {
     "name": "stdout",
     "output_type": "stream",
     "text": [
      "8.377580409572781\n",
      "7.68\n",
      "0.04693426119602033\n",
      "0.0\n"
     ]
    }
   ],
   "source": [
    "theoretical_mass = (8 / 3) * math.pi\n",
    "print(theoretical_mass)\n",
    "\n",
    "def mass(N):\n",
    "    points = np.zeros((N, 3))\n",
    "    points[:, 0] = np.random.uniform(low=-1, high=1, size=N)\n",
    "    points[:, 1] = np.random.uniform(low=-1, high=1, size=N)\n",
    "    points[:, 2] = np.random.uniform(low=-1, high=1, size=N)\n",
    "    def inside_sphere(points):\n",
    "        inside = []\n",
    "        for i in range(N):\n",
    "            if np.sqrt(points[i, 0] ** 2 + points[i, 1] **2 + points[i, 2] ** 2) < 1:\n",
    "                inside.append(1)\n",
    "            else:\n",
    "                inside.append(0)\n",
    "        return inside\n",
    "    inside = inside_sphere(points)\n",
    "    density = 2 * np.count_nonzero(inside) * 8 / N\n",
    "    return density\n",
    "print(mass(100))   \n",
    "\n",
    "Y = np.linspace(100, 100000, 100, dtype = int)\n",
    "m_list = np.zeros(100)\n",
    "m_variance = np.zeros(100)\n",
    "\n",
    "for i in range(100):\n",
    "    m_val = mass(Y[i])\n",
    "    m_list[i] = m_val\n",
    "    \n",
    "\n",
    "\n",
    "uncertainty = np.sqrt(np.var(m_list))\n",
    "print(uncertainty)\n",
    "\n",
    "###part d\n",
    "\n",
    "######################\n",
    "#######################\n"
   ]
  },
  {
   "cell_type": "markdown",
   "id": "e761c51e-0c3f-4af0-9008-7540beb98d95",
   "metadata": {},
   "source": [
    "### b. Linear Density"
   ]
  },
  {
   "cell_type": "code",
   "execution_count": null,
   "id": "ee145807-e7cb-4206-93be-f901ab49cab4",
   "metadata": {},
   "outputs": [],
   "source": [
    "def mass(N):\n",
    "    points = np.zeros((N, 3))\n",
    "    points[:, 0] = np.random.uniform(low=-1, high=1, size=N)\n",
    "    points[:, 1] = np.random.uniform(low=-1, high=1, size=N)\n",
    "    points[:, 2] = np.random.uniform(low=-1, high=1, size=N)\n",
    "    def inside_sphere(points):\n",
    "        inside = []\n",
    "        for i in range(N):\n",
    "            if np.sqrt(points[i, 0] ** 2 + points[i, 1] **2 + points[i, 2] ** 2) < 1:\n",
    "                inside.append(1)\n",
    "            else:\n",
    "                inside.append(0)\n",
    "        return inside\n",
    "    inside = inside_sphere(points)\n",
    "    density = 2 * np.count_nonzero(inside) * 8 / N\n",
    "    return density\n",
    "print(mass(100))   \n",
    "\n",
    "Y = np.linspace(100, 100000, 100, dtype = int)\n",
    "m_list = np.zeros(100)\n",
    "m_variance = np.zeros(100)\n",
    "\n",
    "for i in range(100):\n",
    "    m_val = mass(Y[i])\n",
    "    m_list[i] = m_val\n",
    "    \n",
    "\n",
    "\n",
    "uncertainty = np.sqrt(np.var(m_list))\n",
    "print(uncertainty)\n"
   ]
  }
 ],
 "metadata": {
  "kernelspec": {
   "display_name": "Python 3 (ipykernel)",
   "language": "python",
   "name": "python3"
  },
  "language_info": {
   "codemirror_mode": {
    "name": "ipython",
    "version": 3
   },
   "file_extension": ".py",
   "mimetype": "text/x-python",
   "name": "python",
   "nbconvert_exporter": "python",
   "pygments_lexer": "ipython3",
   "version": "3.9.12"
  }
 },
 "nbformat": 4,
 "nbformat_minor": 5
}
