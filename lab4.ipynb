{
 "cells": [
  {
   "cell_type": "code",
   "execution_count": 14,
   "id": "61af400e-0d49-4b8f-950e-cf43fce6b392",
   "metadata": {},
   "outputs": [],
   "source": [
    "import numpy as np\n",
    "from numpy import random\n",
    "from scipy import stats\n",
    "import matplotlib.pyplot as plt"
   ]
  },
  {
   "cell_type": "code",
   "execution_count": 34,
   "id": "5b7ec113-fb71-41c5-937d-d4592f1a1e40",
   "metadata": {},
   "outputs": [
    {
     "data": {
      "text/plain": [
       "[<matplotlib.lines.Line2D at 0x7fab1003f820>]"
      ]
     },
     "execution_count": 34,
     "metadata": {},
     "output_type": "execute_result"
    },
    {
     "data": {
      "image/png": "[encoded data removed]",
      "text/plain": [
       "<Figure size 432x288 with 1 Axes>"
      ]
     },
     "metadata": {
      "needs_background": "light"
     },
     "output_type": "display_data"
    }
   ],
   "source": [
    "def H(S):\n",
    "    energy = 0\n",
    "    L = 10\n",
    "    for i in range(len(S)):\n",
    "        for j in range(len(S)):\n",
    "            s = S[i, j]\n",
    "            one_sum = s * (S[(i+1)%L, j] + S[(i-1)%L, j] + S[i, (j+1)%L] + S[i, (j-1)%L])\n",
    "            energy += one_sum\n",
    "    return energy * -1 / 2 \n",
    "        \n",
    "        \n",
    "def spins(N):            \n",
    "    S = np.full((10, 10), 1)\n",
    "    S_0 = np.copy(S) # same one\n",
    "    N = 10 \n",
    "    for k in range(N):\n",
    "        i = np.random.randint(low=0, high=9, size=1)\n",
    "        j = np.random.randint(low=0, high=9, size=1)\n",
    "        HS = H(S)\n",
    "        if S[i, j] == 1:\n",
    "            S[i, j] = -1\n",
    "        else:\n",
    "            S[i, j] = 1\n",
    "        S_prime = S\n",
    "        det_E = H(S) - H(S_prime)\n",
    "    return S\n",
    " \n",
    "    \n",
    "    \n",
    "def M(S):\n",
    "    mag = np.zeros(100)\n",
    "    N = np.linspace(0, 10000, 100)\n",
    "    for z in range(100):\n",
    "        if N[z] == 0:\n",
    "            mag[z] = np.inf\n",
    "        else:\n",
    "            mag[z] = (1 / N[z]) * np.sum(S)\n",
    "    return mag\n",
    "\n",
    "N = np.linspace(0, 10000, 100)\n",
    "S = spins(N)\n",
    "magnetization_1 = M(S)\n",
    "\n",
    "plt.plot(N, magnetization_1)\n",
    "\n",
    "\n",
    "        \n",
    "\n",
    "        \n",
    "        \n",
    "\n",
    "\n"
   ]
  },
  {
   "cell_type": "code",
   "execution_count": 45,
   "id": "8bb61be3-c101-47f2-95db-a0e1370cd9dd",
   "metadata": {},
   "outputs": [],
   "source": [
    "theta =np.random.uniform(low=0, high= 2* np.pi, size=1)\n",
    "phi = np.random.uniform(low=0, high= np.pi, size=1)\n",
    "points_1 = np.array([theta, phi], dtype=object)\n",
    "points_2 = -1 * points_1\n",
    "    \n",
    "    \n",
    "    \n",
    "    \n"
   ]
  },
  {
   "cell_type": "code",
   "execution_count": null,
   "id": "c5cd032f-a7cf-42c3-a8a7-64d8ac4d2c2c",
   "metadata": {},
   "outputs": [],
   "source": []
  }
 ],
 "metadata": {
  "kernelspec": {
   "display_name": "Python 3 (ipykernel)",
   "language": "python",
   "name": "python3"
  },
  "language_info": {
   "codemirror_mode": {
    "name": "ipython",
    "version": 3
   },
   "file_extension": ".py",
   "mimetype": "text/x-python",
   "name": "python",
   "nbconvert_exporter": "python",
   "pygments_lexer": "ipython3",
   "version": "3.9.12"
  }
 },
 "nbformat": 4,
 "nbformat_minor": 5
}
