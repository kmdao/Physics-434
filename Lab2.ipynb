{
 "cells": [
  {
   "cell_type": "code",
   "execution_count": 27,
   "id": "ef2985b0-9cf2-4fb3-9ffa-01578dc9fea9",
   "metadata": {},
   "outputs": [],
   "source": [
    "import numpy as np\n",
    "import matplotlib.pyplot as plt\n",
    "import pandas as pd\n",
    "from scipy import stats\n",
    "from scipy.stats import uniform\n",
    "from scipy.stats import poisson"
   ]
  },
  {
   "cell_type": "markdown",
   "id": "f376f15b-c138-42b1-9681-04b6b75da8db",
   "metadata": {},
   "source": [
    "# Variable of Transformation"
   ]
  },
  {
   "cell_type": "markdown",
   "id": "ebb6bfbf-8097-45af-8050-bb98b0c7d9a3",
   "metadata": {},
   "source": [
    "Drawing a random sample, $x$ from the uniform distribution, we van apply a variable of transformation, $u=f(x)$ to each data point, and analytically find the new probability distribution, $g(u)$."
   ]
  },
  {
   "cell_type": "markdown",
   "id": "e01f7bb3-6824-46e5-a397-bc3b8835e380",
   "metadata": {},
   "source": [
    "#### Derive $g(u)$ Analytically for $u = x^2$ \n",
    "For a transformation of the p.d.f $f(x)=u$ to $g(u)$ by function $u(x)$, the relationship between the three functions in differential form is <br>\n",
    "\\begin{gather*}\n",
    "    g(u)=f(x)+|\\frac{dx}{du}| \n",
    "\\end{gather*}\n",
    "To solve for $g(u)$ given this relation and the function $u=e-x$, first express x in terms of u <br>\n",
    "\\begin{gather*}\n",
    "    u=x^2 \\\\\n",
    "    x=\\sqrt{u}\n",
    "\\end{gather*}\n",
    "Solving for $\\frac{dx}{du}$ <br>\n",
    "\\begin{gather*}\n",
    "    \\frac{dx}{du}=\\frac{d}{du}(\\sqrt{u}) \\\\\n",
    "    =\\frac{d}{du}(u^\\frac{1}{2}) \\\\\n",
    "    =\\frac{1}{2}u^\\frac{-1}{2}\n",
    "\\end{gather*}\n",
    "Thus, <br>\n",
    "\\begin{gather*}\n",
    "    g(u)=u*\\frac{1}{2}u^\\frac{-1}{2} \\\\\n",
    "    =\\frac{\\sqrt{u}}{2}\n",
    "\\end{gather*}\n"
   ]
  },
  {
   "cell_type": "code",
   "execution_count": 179,
   "id": "596d72f0-9467-4b3a-a390-36acfe6ce559",
   "metadata": {
    "tags": []
   },
   "outputs": [
    {
     "data": {
      "text/plain": [
       "<matplotlib.legend.Legend at 0x7fbf2a73bbe0>"
      ]
     },
     "execution_count": 179,
     "metadata": {},
     "output_type": "execute_result"
    },
    {
     "data": {
      "image/png": "[encoded data removed]",
      "text/plain": [
       "<Figure size 576x576 with 1 Axes>"
      ]
     },
     "metadata": {
      "needs_background": "light"
     },
     "output_type": "display_data"
    }
   ],
   "source": [
    "# u=x^2, g(u)=sqrt(u)/2\n",
    "x = uniform.rvs(size=1000)\n",
    "\n",
    "u = x ** 2\n",
    "g = np.sqrt(u) / 2\n",
    "\n",
    "def g(u):\n",
    "    return np.sqrt(u) / 2\n",
    "\n",
    "fig, ax = plt.subplots(1, 1, figsize=(8,8))\n",
    "plt.title(\"Distribution of transformed value u with analytic solution g(u)\")\n",
    "plt.xlabel(\"u\")\n",
    "plt.ylabel(\"g(u)\")\n",
    "\n",
    "ax.hist(u, bins=50, density=True, alpha=0.5)\n",
    "ax.plot(u, g(u))\n",
    "\n",
    "ax.legend([\"g(u)\", '\\nu Distribtion'])\n"
   ]
  },
  {
   "cell_type": "markdown",
   "id": "84037b92-b086-41e0-a442-ee4f030deac4",
   "metadata": {},
   "source": [
    "#### Derive $g(u)$ Analytically for $u = e^x$ \n",
    "For a transformation of the p.d.f $f(x)=u$ to $g(u)$ by function $u(x)$, the relationship between the three functions in differential form is <br>\n",
    "\\begin{gather*}\n",
    "    g(u)=f(x)+|\\frac{dx}{du}| \n",
    "\\end{gather*}\n",
    "To solve for $g(u)$ given this relation and the function $u=e^x$, first express x in terms of u <br>\n",
    "\\begin{gather*}\n",
    "    u=e^x \\\\\n",
    "    x=\\ln(u)\n",
    "\\end{gather*}\n",
    "Solving for $\\frac{dx}{du}$ <br>\n",
    "\\begin{gather*}\n",
    "    \\frac{dx}{du}=\\frac{d}{du}\\ln(u) \\\\\n",
    "    =\\frac{1}{u}\n",
    "\\end{gather*}\n",
    "Thus, <br>\n",
    "\\begin{gather*}\n",
    "    g(u)=u*\\frac{1}{u} \\\\\n",
    "    =\\frac{u}{u} \\\\\n",
    "    =1\n",
    "\\end{gather*}\n"
   ]
  },
  {
   "cell_type": "code",
   "execution_count": 175,
   "id": "3704d1ec-5f37-4eda-b031-40f3976e0443",
   "metadata": {},
   "outputs": [
    {
     "data": {
      "text/plain": [
       "<matplotlib.legend.Legend at 0x7fbf1bd22910>"
      ]
     },
     "execution_count": 175,
     "metadata": {},
     "output_type": "execute_result"
    },
    {
     "data": {
      "image/png": "[encoded data removed]",
      "text/plain": [
       "<Figure size 576x576 with 1 Axes>"
      ]
     },
     "metadata": {
      "needs_background": "light"
     },
     "output_type": "display_data"
    }
   ],
   "source": [
    "x = uniform.rvs(size=1000)\n",
    "u = np.exp(x)\n",
    "\n",
    "g = u / u\n",
    "\n",
    "fig, ax = plt.subplots(1, 1, figsize=(8,8))\n",
    "plt.title(\"Distribution of transformed value u with analytic solution g(u)\")\n",
    "plt.xlabel(\"u\")\n",
    "plt.ylabel(\"g(u)\")\n",
    "          \n",
    "ax.hist(u, bins=50, density = True, alpha=0.5)\n",
    "ax.plot(u, g)\n",
    "ax.legend([\"g(u)\", '\\nu Distribtion'])"
   ]
  },
  {
   "cell_type": "markdown",
   "id": "3e823bf7-f3d7-457a-bc7f-7760c6e26676",
   "metadata": {},
   "source": [
    "# Throwing Two Dices"
   ]
  },
  {
   "cell_type": "markdown",
   "id": "078521dc-32e2-42f0-bd69-0457e2f69fcf",
   "metadata": {},
   "source": [
    "We can simulate a fair dice by drawing a random uniform distribution of x between 0 and 1. There are multiple ways to do so, e.g. multiply a random number x by 6, take the integer part of the number and add it by one \n",
    "([0,1]→[0,5]→[1,6]) \n",
    "or use numpy.random.uniform(). This number represents the face of the dice. We can repeat this procedure N times to simulate throwing the dice N times."
   ]
  },
  {
   "cell_type": "code",
   "execution_count": 183,
   "id": "c6528a8f-87ec-436c-8731-451c6bad9d63",
   "metadata": {},
   "outputs": [
    {
     "data": {
      "image/png": "[encoded data removed]",
      "text/plain": [
       "<Figure size 432x288 with 1 Axes>"
      ]
     },
     "metadata": {
      "needs_background": "light"
     },
     "output_type": "display_data"
    },
    {
     "name": "stdout",
     "output_type": "stream",
     "text": [
      "The variance of the sum distribution is 6.209804\n",
      "The mean of the sum distribution is 6.986\n",
      "The probability of Sevens is 0.167\n",
      "The statistical uncertainty in the probability is 0.01179453263168999\n",
      "The analytical probability of rolling a sum of 7 is sevens= 0.16666666666666666\n"
     ]
    }
   ],
   "source": [
    "def dice_rolls(dice, rolls):      \n",
    "    return np.sum(np.random.randint(1,7,(dice,rolls)),axis=0)\n",
    "\n",
    "sum_rolls = dice_rolls(2, 1000)\n",
    "\n",
    "def dice_histogram(sum_rolls, bins):\n",
    "    plt.hist(sum_rolls, bins)\n",
    "    plt.show()\n",
    "\n",
    "dice_histogram(sum_rolls, 11)\n",
    "\n",
    "variance = np.var(sum_rolls, axis=None)\n",
    "mean = np.mean(sum_rolls, axis=None)\n",
    "\n",
    "print(\"The variance of the sum distribution is\", variance)\n",
    "print(\"The mean of the sum distribution is\", mean)\n",
    "\n",
    "sevens_sum = np.count_nonzero(sum_rolls == 7)\n",
    "p_sevens_ratio = sevens_sum / 1000\n",
    "# the probability uncertainty is the standard error of the binomial proportion\n",
    "uncertainty = np.sqrt((p_sevens_ratio * (1 - p_sevens_ratio)) / 1000)\n",
    "\n",
    "print(\"The probability of Sevens is\", p_sevens_ratio)\n",
    "print(\"The statistical uncertainty in the probability is\", uncertainty)\n",
    "\n",
    "# Analytical\n",
    "p_sevens_an = 6 * ((1 / 6) * (1 / 6))\n",
    "print('The analytical probability of rolling a sum of 7 is sevens=', p_sevens_an)"
   ]
  },
  {
   "cell_type": "markdown",
   "id": "d21c7b4a-f794-4d97-bd09-29cf0150acb1",
   "metadata": {},
   "source": [
    "#  Central Limit Theorem\n",
    "The central limit theorem states that the distribution of the sample mean \n",
    "¯\n",
    "x\n",
    ", \n",
    "¯\n",
    "x\n",
    "=\n",
    "1\n",
    "N\n",
    "Σ\n",
    "N\n",
    "i\n",
    "=\n",
    "1\n",
    "x\n",
    "i\n",
    ", of N variables \n",
    "x\n",
    "i\n",
    " with finite variance \n",
    "σ\n",
    "2\n",
    " in the limit \n",
    "N\n",
    "→\n",
    "inf\n",
    " will approach a normal distribution with variance \n",
    "σ\n",
    "2\n",
    "/\n",
    "N\n",
    " independent of the form of the distribution f(x). In this computational experiment, we will test this theorem.\n",
    "\n",
    "Generate a 5 event sample using built-in Poisson distributions in scipy with \n",
    "λ\n",
    "=\n",
    "2.0\n",
    ". From these 5 events, calculate average \n",
    "μ\n",
    "5\n",
    " and standard deviation \n",
    "σ\n",
    "5\n",
    ". Repeat tnis process N times. For each time, you will draw different set of 5 events, and calculate indepdent \n",
    "μ\n",
    "5\n",
    " and \n",
    "σ\n",
    "5\n",
    ", respectively."
   ]
  },
  {
   "cell_type": "code",
   "execution_count": 137,
   "id": "93835a5d-17e2-4a94-8eb1-cb4394343218",
   "metadata": {},
   "outputs": [],
   "source": [
    "# N=10\n",
    "# miu is 2\n",
    "\n",
    "def Poisson(N):\n",
    "    samples_avg = np.zeros(N, dtype=object)\n",
    "    samples_variance = np.zeros(N, dtype=object)\n",
    "\n",
    "    for i in range(N):\n",
    "        sample = poisson.rvs(2, size=5)\n",
    "        samples_avg[i] = np.mean(sample)\n",
    "        samples_variance[i] = np.var(sample)\n",
    "    # print(samples_avg, samples_variance)\n",
    "    return (samples_avg, samples_variance)\n",
    "\n",
    "def Poisson_dist(samples_avg, samples_variance):\n",
    "    plt.hist(samples_avg, bins=10, alpha=0.5)\n",
    "    plt.hist(samples_variance, bins=10, alpha=0.5)\n",
    "    return "
   ]
  },
  {
   "cell_type": "code",
   "execution_count": 131,
   "id": "7aa37b1e-8336-4028-81b3-b89f5a729a94",
   "metadata": {},
   "outputs": [
    {
     "name": "stdout",
     "output_type": "stream",
     "text": [
      "[2.0 1.6 2.2 1.2 2.8 1.6 1.6 1.2 2.6 3.0] [0.8 1.4400000000000002 1.3599999999999999 1.36 2.56 2.64\n",
      " 3.0399999999999996 0.96 3.04 0.4]\n"
     ]
    },
    {
     "data": {
      "image/png": "[encoded data removed]",
      "text/plain": [
       "<Figure size 432x288 with 1 Axes>"
      ]
     },
     "metadata": {
      "needs_background": "light"
     },
     "output_type": "display_data"
    }
   ],
   "source": [
    "# N=10\n",
    "\n",
    "A10, V10 = Poisson(10)\n",
    "plt.show(Poisson_dist(A10, V10))"
   ]
  },
  {
   "cell_type": "code",
   "execution_count": 141,
   "id": "66fbdd7f-b249-41e3-baef-e7670225ae4f",
   "metadata": {},
   "outputs": [
    {
     "data": {
      "text/plain": [
       "(array([31., 35., 12., 16.,  3.,  2.,  0.,  0.,  0.,  1.]),\n",
       " array([0.15999999999999998, 0.8239999999999998, 1.4879999999999998,\n",
       "        2.1519999999999997, 2.816, 3.4799999999999995, 4.143999999999999,\n",
       "        4.808, 5.4719999999999995, 6.135999999999999, 6.8], dtype=object),\n",
       " <BarContainer object of 10 artists>)"
      ]
     },
     "execution_count": 141,
     "metadata": {},
     "output_type": "execute_result"
    },
    {
     "data": {
      "image/png": "[encoded data removed]",
      "text/plain": [
       "<Figure size 432x288 with 2 Axes>"
      ]
     },
     "metadata": {
      "needs_background": "light"
     },
     "output_type": "display_data"
    }
   ],
   "source": [
    "# N=100\n",
    "\n",
    "A100, V100 = Poisson(100)\n",
    "fig, ax = plt.subplots(1,2)\n",
    "ax[0].hist(A100, bins=10)\n",
    "ax[1].hist(V100, bins=10)"
   ]
  },
  {
   "cell_type": "code",
   "execution_count": 142,
   "id": "cd42444c-abf3-4af8-9656-6bcc2f74f9a0",
   "metadata": {},
   "outputs": [
    {
     "data": {
      "text/plain": [
       "(array([ 28.,  51.,  46., 146.,  43.,  52.,  83.,  43., 119.,  22.,  21.,\n",
       "         61.,  26.,  73.,  11.,  16.,  33.,  16.,  12.,   4.,  23.,   4.,\n",
       "          7.,   8.,   4.,   7.,   6.,   7.,   1.,   0.,   9.,   5.,   1.,\n",
       "          2.,   1.,   2.,   0.,   2.,   0.,   0.,   0.,   0.,   0.,   0.,\n",
       "          0.,   1.,   1.,   2.,   0.,   1.]),\n",
       " array([0.0, 0.16479999999999997, 0.32959999999999995, 0.49439999999999995,\n",
       "        0.6591999999999999, 0.8239999999999998, 0.9887999999999999,\n",
       "        1.1535999999999997, 1.3183999999999998, 1.4831999999999999,\n",
       "        1.6479999999999997, 1.8127999999999997, 1.9775999999999998, 2.1424,\n",
       "        2.3071999999999995, 2.4719999999999995, 2.6367999999999996,\n",
       "        2.8015999999999996, 2.9663999999999997, 3.1311999999999993,\n",
       "        3.2959999999999994, 3.4607999999999994, 3.6255999999999995,\n",
       "        3.7903999999999995, 3.9551999999999996, 4.119999999999999, 4.2848,\n",
       "        4.449599999999999, 4.614399999999999, 4.7791999999999994,\n",
       "        4.943999999999999, 5.1088, 5.273599999999999, 5.438399999999999,\n",
       "        5.603199999999999, 5.767999999999999, 5.932799999999999,\n",
       "        6.097599999999999, 6.262399999999999, 6.427199999999999,\n",
       "        6.591999999999999, 6.756799999999999, 6.921599999999999,\n",
       "        7.0863999999999985, 7.251199999999999, 7.415999999999999,\n",
       "        7.580799999999999, 7.745599999999999, 7.910399999999999,\n",
       "        8.075199999999999, 8.239999999999998], dtype=object),\n",
       " <BarContainer object of 50 artists>)"
      ]
     },
     "execution_count": 142,
     "metadata": {},
     "output_type": "execute_result"
    },
    {
     "data": {
      "image/png": "[encoded data removed]",
      "text/plain": [
       "<Figure size 432x288 with 2 Axes>"
      ]
     },
     "metadata": {
      "needs_background": "light"
     },
     "output_type": "display_data"
    }
   ],
   "source": [
    "# N=1000\n",
    "\n",
    "A1000, V1000 = Poisson(1000)\n",
    "fig, ax = plt.subplots(1,2)\n",
    "ax[0].hist(A1000, bins=50)\n",
    "ax[1].hist(V1000, bins=50)"
   ]
  },
  {
   "cell_type": "markdown",
   "id": "e8e0edb0-922c-49d2-a49f-4082601694e8",
   "metadata": {},
   "source": [
    "# Bonus\n",
    "Generate 1000 samples. Each sample is a 10 event dataset using one built-in distribution in scipy but not Binomial, Normal nor Poisson. Show that the mean and variance of these 1000 samples also behave like a Normal Distribution."
   ]
  },
  {
   "cell_type": "code",
   "execution_count": 146,
   "id": "7f82dc56-e270-4880-8fcf-6a4c7719db3e",
   "metadata": {},
   "outputs": [],
   "source": [
    "from scipy.stats import bernoulli\n",
    "\n",
    "def Bernoulli(N):\n",
    "    bsamples_avg = np.zeros(N, dtype=object)\n",
    "    bsamples_variance = np.zeros(N, dtype=object)\n",
    "\n",
    "    for i in range(N):\n",
    "        sample = bernoulli.rvs(0.2, size=10)\n",
    "        bsamples_avg[i] = np.mean(sample)\n",
    "        bsamples_variance[i] = np.var(sample)\n",
    "    # print(samples_avg, samples_variance)\n",
    "    return (bsamples_avg, bsamples_variance)\n"
   ]
  },
  {
   "cell_type": "code",
   "execution_count": 159,
   "id": "5136a74a-639e-45fc-816c-8071599df9b5",
   "metadata": {},
   "outputs": [
    {
     "data": {
      "text/plain": [
       "[<matplotlib.lines.Line2D at 0x7fbf18655280>]"
      ]
     },
     "execution_count": 159,
     "metadata": {},
     "output_type": "execute_result"
    },
    {
     "data": {
      "image/png": "[encoded data removed]",
      "text/plain": [
       "<Figure size 432x288 with 2 Axes>"
      ]
     },
     "metadata": {
      "needs_background": "light"
     },
     "output_type": "display_data"
    }
   ],
   "source": [
    "from scipy.stats import norm\n",
    "\n",
    "bsamples_avg, bsamples_variance = Bernoulli(1000)\n",
    "\n",
    "# avg and std of both distributions to compare to normal \n",
    "\n",
    "avg_dist_mean = np.mean(bsamples_avg)\n",
    "avg_dist_std = np.std(bsamples_avg)\n",
    "var_dist_mean = np.mean(bsamples_variance)\n",
    "var_dist_std = np.std(bsamples_variance)\n",
    "\n",
    "\n",
    "# norm_avg_samp = norm.rvs(loc = 3.0, scale = 0.01, size = 100000)\n",
    "# norm_var_samp = norm.rvs(loc = var_dist_mean, scale = var_dist_std, size=1000)\n",
    "x = np.linspace(0,1,100)\n",
    "\n",
    "fig, ax = plt.subplots(1, 2)\n",
    "\n",
    "plt.xlim(-1,1)\n",
    "\n",
    "ax[0].hist(bsamples_avg, bins=10, density=True, alpha=0.5)\n",
    "ax[0].plot(x, norm.pdf(x, loc=avg_dist_mean, scale=avg_dist_std), linewidth=5, alpha=0.6)\n",
    "ax[1].hist(bsamples_variance, bins=10, density=True, alpha=0.5)\n",
    "ax[1].plot(x, norm.pdf(x, loc=var_dist_mean, scale=var_dist_std), linewidth=5, alpha=0.6)\n",
    "\n"
   ]
  },
  {
   "cell_type": "code",
   "execution_count": null,
   "id": "99812d7a-5b16-4ded-b0ef-096a92369c19",
   "metadata": {},
   "outputs": [],
   "source": []
  }
 ],
 "metadata": {
  "kernelspec": {
   "display_name": "Python 3 (ipykernel)",
   "language": "python",
   "name": "python3"
  },
  "language_info": {
   "codemirror_mode": {
    "name": "ipython",
    "version": 3
   },
   "file_extension": ".py",
   "mimetype": "text/x-python",
   "name": "python",
   "nbconvert_exporter": "python",
   "pygments_lexer": "ipython3",
   "version": "3.9.12"
  }
 },
 "nbformat": 4,
 "nbformat_minor": 5
}
