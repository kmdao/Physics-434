{
 "cells": [
  {
   "cell_type": "code",
   "execution_count": 31,
   "id": "eda87153-1e6f-4fba-9d7f-255551ea3011",
   "metadata": {
    "collapsed": true,
    "jupyter": {
     "outputs_hidden": true
    },
    "tags": []
   },
   "outputs": [
    {
     "name": "stdout",
     "output_type": "stream",
     "text": [
      "                0          1         2         3           4          5  \\\n",
      "0      140.562500  55.683782 -0.234571 -0.699648    3.199833  19.110426   \n",
      "1      102.507812  58.882430  0.465318 -0.515088    1.677258  14.860146   \n",
      "2      103.015625  39.341649  0.323328  1.051164    3.121237  21.744669   \n",
      "3      136.750000  57.178449 -0.068415 -0.636238    3.642977  20.959280   \n",
      "4       88.726562  40.672225  0.600866  1.123492    1.178930  11.468720   \n",
      "...           ...        ...       ...       ...         ...        ...   \n",
      "17893  136.429688  59.847421 -0.187846 -0.738123    1.296823  12.166062   \n",
      "17894  122.554688  49.485605  0.127978  0.323061   16.409699  44.626893   \n",
      "17895  119.335938  59.935939  0.159363 -0.743025   21.430602  58.872000   \n",
      "17896  114.507812  53.902400  0.201161 -0.024789    1.946488  13.381731   \n",
      "17897   57.062500  85.797340  1.406391  0.089520  188.306020  64.712562   \n",
      "\n",
      "               6           7  8  \n",
      "0       7.975532   74.242225  0  \n",
      "1      10.576487  127.393580  0  \n",
      "2       7.735822   63.171909  0  \n",
      "3       6.896499   53.593661  0  \n",
      "4      14.269573  252.567306  0  \n",
      "...          ...         ... ..  \n",
      "17893  15.450260  285.931022  0  \n",
      "17894   2.945244    8.297092  0  \n",
      "17895   2.499517    4.595173  0  \n",
      "17896  10.007967  134.238910  0  \n",
      "17897  -1.597527    1.429475  0  \n",
      "\n",
      "[17898 rows x 9 columns]\n",
      "0        140.562500\n",
      "1        102.507812\n",
      "2        103.015625\n",
      "3        136.750000\n",
      "4         88.726562\n",
      "            ...    \n",
      "17893    136.429688\n",
      "17894    122.554688\n",
      "17895    119.335938\n",
      "17896    114.507812\n",
      "17897     57.062500\n",
      "Name: 0, Length: 16259, dtype: float64\n"
     ]
    }
   ],
   "source": [
    "import pandas as pd\n",
    "import numpy as np\n",
    "import matplotlib.pyplot as plt\n",
    "d = pd.read_csv('HTRU_2.csv', header=None)\n",
    "print(d)\n",
    "x = d.loc[d[8]==0,0]\n",
    "print(x)"
   ]
  },
  {
   "cell_type": "code",
   "execution_count": 73,
   "id": "f8953e80-9217-4132-9bd0-d3353200e35e",
   "metadata": {},
   "outputs": [
    {
     "data": {
      "text/plain": [
       "24.411409122847605"
      ]
     },
     "execution_count": 73,
     "metadata": {},
     "output_type": "execute_result"
    },
    {
     "data": {
      "image/png": "[encoded data removed]",
      "text/plain": [
       "<Figure size 432x288 with 1 Axes>"
      ]
     },
     "metadata": {
      "needs_background": "light"
     },
     "output_type": "display_data"
    }
   ],
   "source": [
    "mean_DMSNR_0 = d.loc[d[8]==0, 4]\n",
    "mean_DMSNR_1 = d.loc[d[8]==1, 4]\n",
    "fig, ax = plt.subplots(1,1)\n",
    "ax.hist(mean_DMSNR_0, bins=30, density=True, alpha=0.5)\n",
    "ax.hist(mean_DMSNR_1, bins=30, density=True, alpha=0.5)\n",
    "mean_DMSNR_0.std()\n"
   ]
  },
  {
   "cell_type": "code",
   "execution_count": 43,
   "id": "e5067723-7558-42d6-98d5-e6af2f1d7075",
   "metadata": {},
   "outputs": [
    {
     "data": {
      "text/plain": [
       "(array([0.00107673, 0.00466584, 0.00628093, 0.00592202, 0.00646039,\n",
       "        0.00663984, 0.00969058, 0.00879331, 0.00879331, 0.01076731,\n",
       "        0.01094677, 0.01256187, 0.0156126 , 0.01525369, 0.01830443,\n",
       "        0.02135517, 0.02063735, 0.02314972, 0.02279081, 0.02027844,\n",
       "        0.01310023, 0.01130568, 0.00663984, 0.00502475, 0.00215346,\n",
       "        0.00287128, 0.00215346, 0.00035891, 0.00017946, 0.00035891]),\n",
       " array([  7.65862281,  11.05851355,  14.45840429,  17.85829504,\n",
       "         21.25818578,  24.65807652,  28.05796727,  31.45785801,\n",
       "         34.85774875,  38.25763949,  41.65753024,  45.05742098,\n",
       "         48.45731172,  51.85720247,  55.25709321,  58.65698395,\n",
       "         62.0568747 ,  65.45676544,  68.85665618,  72.25654693,\n",
       "         75.65643767,  79.05632841,  82.45621916,  85.8561099 ,\n",
       "         89.25600064,  92.65589138,  96.05578213,  99.45567287,\n",
       "        102.85556361, 106.25545436, 109.6553451 ]),\n",
       " <BarContainer object of 30 artists>)"
      ]
     },
     "execution_count": 43,
     "metadata": {},
     "output_type": "execute_result"
    },
    {
     "data": {
      "image/png": "[encoded data removed]",
      "text/plain": [
       "<Figure size 432x288 with 1 Axes>"
      ]
     },
     "metadata": {
      "needs_background": "light"
     },
     "output_type": "display_data"
    }
   ],
   "source": [
    "sd_DMSNR_0 = d.loc[d[8]==0, 5]\n",
    "sd_DMSNR_1 = d.loc[d[8]==1, 5]\n",
    "fig, ax = plt.subplots(1,1)\n",
    "ax.hist(sd_DMSNR_0, bins=30, density=True, alpha=0.5)\n",
    "ax.hist(sd_DMSNR_1, bins=30, density=True, alpha=0.5)"
   ]
  },
  {
   "cell_type": "code",
   "execution_count": 48,
   "id": "ae5d0294-5a13-479a-a01c-fff5c077d2c7",
   "metadata": {},
   "outputs": [
    {
     "data": {
      "text/plain": [
       "(array([0.01620986, 0.12967891, 0.22023056, 0.18333915, 0.12520722,\n",
       "        0.07322387, 0.05030647, 0.03409661, 0.02179947, 0.01732779,\n",
       "        0.01509194, 0.00670753, 0.00558961, 0.00670753, 0.00111792,\n",
       "        0.0027948 , 0.00223584, 0.00055896, 0.00167688, 0.00111792,\n",
       "        0.00055896, 0.        , 0.        , 0.        , 0.        ,\n",
       "        0.        , 0.        , 0.        , 0.        , 0.00055896]),\n",
       " array([-1.86231995, -0.77077988,  0.32076019,  1.41230026,  2.50384034,\n",
       "         3.59538041,  4.68692048,  5.77846055,  6.87000062,  7.96154069,\n",
       "         9.05308076, 10.14462083, 11.23616091, 12.32770098, 13.41924105,\n",
       "        14.51078112, 15.60232119, 16.69386126, 17.78540133, 18.87694141,\n",
       "        19.96848148, 21.06002155, 22.15156162, 23.24310169, 24.33464176,\n",
       "        25.42618183, 26.5177219 , 27.60926198, 28.70080205, 29.79234212,\n",
       "        30.88388219]),\n",
       " <BarContainer object of 30 artists>)"
      ]
     },
     "execution_count": 48,
     "metadata": {},
     "output_type": "execute_result"
    },
    {
     "data": {
      "image/png": "[encoded data removed]",
      "text/plain": [
       "<Figure size 432x288 with 1 Axes>"
      ]
     },
     "metadata": {
      "needs_background": "light"
     },
     "output_type": "display_data"
    }
   ],
   "source": [
    "ex_DMSNR_0 = d.loc[d[8]==0, 6]\n",
    "ex_DMSNR_1 = d.loc[d[8]==1, 6]\n",
    "fig, ax = plt.subplots(1,1)\n",
    "ax.hist(ex_DMSNR_0, bins=30, density=True, alpha=0.5)\n",
    "ax.hist(ex_DMSNR_1, bins=30, density=True, alpha=0.5)"
   ]
  },
  {
   "cell_type": "code",
   "execution_count": 65,
   "id": "8327d65e-da98-497d-995a-d9321c37043c",
   "metadata": {},
   "outputs": [
    {
     "data": {
      "text/plain": [
       "Text(0.5, 0, 'DMSNR Skew')"
      ]
     },
     "execution_count": 65,
     "metadata": {},
     "output_type": "execute_result"
    },
    {
     "data": {
      "image/png": "[encoded data removed]",
      "text/plain": [
       "<Figure size 432x288 with 1 Axes>"
      ]
     },
     "metadata": {
      "needs_background": "light"
     },
     "output_type": "display_data"
    }
   ],
   "source": [
    "skew_DMSNR_0 = d.loc[d[8]==0, 7]\n",
    "skew_DMSNR_1 = d.loc[d[8]==1, 7]\n",
    "fig, ax = plt.subplots(1,1)\n",
    "ax.hist(skew_DMSNR_0, bins=30, density=True, alpha=0.5)\n",
    "ax.hist(skew_DMSNR_1, bins=30, density=True, alpha=0.5)\n",
    "plt.xlabel('DMSNR Skew')"
   ]
  },
  {
   "cell_type": "code",
   "execution_count": 54,
   "id": "683c061d-f6b0-4836-bfc8-11ed0961083e",
   "metadata": {},
   "outputs": [
    {
     "data": {
      "text/plain": [
       "0.09157447759526204"
      ]
     },
     "execution_count": 54,
     "metadata": {},
     "output_type": "execute_result"
    }
   ],
   "source": [
    "pos = d.loc[d[8]==1]\n",
    "PA = len(pos)/len(d[8])\n",
    "PA"
   ]
  },
  {
   "cell_type": "code",
   "execution_count": 59,
   "id": "0e1544c3-a26f-46f7-8e94-ac448a6b431a",
   "metadata": {},
   "outputs": [
    {
     "data": {
      "text/plain": [
       "0.08626662196893507"
      ]
     },
     "execution_count": 59,
     "metadata": {},
     "output_type": "execute_result"
    }
   ],
   "source": [
    "mean80=d.loc[d[0]<=80]\n",
    "PB = len(mean80)/len(d[0])\n",
    "PB"
   ]
  },
  {
   "cell_type": "code",
   "execution_count": 61,
   "id": "0a074762-9d18-4703-9163-129a51c662b0",
   "metadata": {},
   "outputs": [
    {
     "data": {
      "text/plain": [
       "0.007899820840713185"
      ]
     },
     "execution_count": 61,
     "metadata": {},
     "output_type": "execute_result"
    }
   ],
   "source": [
    "PAnB = PA * PB\n",
    "PAnB"
   ]
  },
  {
   "cell_type": "code",
   "execution_count": 63,
   "id": "51c43b9e-3a4d-4dc3-b9f5-263e97e732cc",
   "metadata": {},
   "outputs": [
    {
     "data": {
      "text/plain": [
       "0.09157447759526204"
      ]
     },
     "execution_count": 63,
     "metadata": {},
     "output_type": "execute_result"
    }
   ],
   "source": [
    "P_A_given_B = PAnB / PB\n",
    "P_A_given_B"
   ]
  },
  {
   "cell_type": "code",
   "execution_count": 64,
   "id": "2e58a957-419a-4235-9aae-bfb4e5ce1d42",
   "metadata": {},
   "outputs": [
    {
     "data": {
      "text/plain": [
       "0.08626662196893507"
      ]
     },
     "execution_count": 64,
     "metadata": {},
     "output_type": "execute_result"
    }
   ],
   "source": [
    "P_B_given_A = PAnB / PA\n",
    "P_B_given_A"
   ]
  },
  {
   "cell_type": "code",
   "execution_count": null,
   "id": "f09538ff-8ec9-4989-9726-c542aaee57b0",
   "metadata": {},
   "outputs": [],
   "source": []
  }
 ],
 "metadata": {
  "kernelspec": {
   "display_name": "Python 3 (ipykernel)",
   "language": "python",
   "name": "python3"
  },
  "language_info": {
   "codemirror_mode": {
    "name": "ipython",
    "version": 3
   },
   "file_extension": ".py",
   "mimetype": "text/x-python",
   "name": "python",
   "nbconvert_exporter": "python",
   "pygments_lexer": "ipython3",
   "version": "3.9.12"
  }
 },
 "nbformat": 4,
 "nbformat_minor": 5
}
