{
 "cells": [
  {
   "cell_type": "code",
   "execution_count": null,
   "id": "141021f9-9d5a-4001-885c-58b4fdbba785",
   "metadata": {},
   "outputs": [],
   "source": [
    "import pickle\n",
    "import matplotlib.pyplot as plt\n",
    "import pandas as pd"
   ]
  },
  {
   "cell_type": "code",
   "execution_count": null,
   "id": "3ad298c0-5a46-4503-9ef9-128c5c6a29fb",
   "metadata": {},
   "outputs": [],
   "source": [
    " # open the file of interest, and use pickle loading\n",
    "infile = open (\"./Higgs.pkl\",'rb') # Signal\n",
    "signal = pickle.load(infile)\n",
    "\n",
    "infile2 = open(\"./qcd_100000_pt_250_500.pkl\",'rb')\n",
    "background = pickle.load(infile2)\n",
    "\n",
    "# list all keys of the files\n",
    "print(signal.keys())\n",
    "background.keys()"
   ]
  }
 ],
 "metadata": {
  "kernelspec": {
   "display_name": "Python 3 (ipykernel)",
   "language": "python",
   "name": "python3"
  },
  "language_info": {
   "codemirror_mode": {
    "name": "ipython",
    "version": 3
   },
   "file_extension": ".py",
   "mimetype": "text/x-python",
   "name": "python",
   "nbconvert_exporter": "python",
   "pygments_lexer": "ipython3",
   "version": "3.9.12"
  }
 },
 "nbformat": 4,
 "nbformat_minor": 5
}
