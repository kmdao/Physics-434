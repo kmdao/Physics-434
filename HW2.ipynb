{
 "cells": [
  {
   "cell_type": "code",
   "execution_count": 24,
   "id": "3313da0d-6584-4e1a-9990-380a707297f8",
   "metadata": {},
   "outputs": [],
   "source": [
    "from scipy.stats import binom\n",
    "import matplotlib.pyplot as plt\n",
    "import numpy as np"
   ]
  },
  {
   "cell_type": "markdown",
   "id": "ba3d2d64-dad1-4740-8992-670838dcb781",
   "metadata": {},
   "source": [
    "1) A little introductory brain teaser. Which is more probable when rolling 2 six-sided dice: rolling snake eyes (two ones) or rolling sevens (dice sum to seven)? What is the ratio of the probabilities?"
   ]
  },
  {
   "cell_type": "code",
   "execution_count": 23,
   "id": "fd86e5db-c363-412d-b782-93af0b8e95c5",
   "metadata": {},
   "outputs": [
    {
     "name": "stdout",
     "output_type": "stream",
     "text": [
      "The probability of snake eyes is snake_eyes= 0.027777777777777776\n",
      "The probability of rolling a sum of 7 is sevens= 0.16666666666666666\n",
      "The ratio of snake eyes to sevens is 0.16666666666666666\n"
     ]
    }
   ],
   "source": [
    "snake_eyes = binom.pmf(2, 2, (1/6))\n",
    "print('The probability of snake eyes is snake_eyes=', snake_eyes)\n",
    "sevens = 6*binom.pmf(2,2,(1/6))\n",
    "print('The probability of rolling a sum of 7 is sevens=', sevens)\n",
    "print('The ratio of snake eyes to sevens is', (snake_eyes/sevens))"
   ]
  },
  {
   "cell_type": "markdown",
   "id": "e2df81ad-ca10-447f-8d4d-147aec6e5840",
   "metadata": {},
   "source": [
    "2) Following what we did in class show how to use the convolution operator to determine the probability of the sum of 2 six sided dice. Do both analytically (math & counting) and numerically (computer program). Beware the implicit definition of the values (x-axis on histogram)."
   ]
  },
  {
   "cell_type": "markdown",
   "id": "3f723d34-f22f-450b-a957-6a4135a8082f",
   "metadata": {},
   "source": [
    "Analytically"
   ]
  },
  {
   "cell_type": "code",
   "execution_count": null,
   "id": "041565b2-4c8e-4024-bd20-c0b5c006bf15",
   "metadata": {},
   "outputs": [],
   "source": [
    "x = np.empty("
   ]
  },
  {
   "cell_type": "markdown",
   "id": "f454089c-1528-424e-8c7f-0562cfe6b486",
   "metadata": {},
   "source": [
    "Numerically"
   ]
  },
  {
   "cell_type": "code",
   "execution_count": 27,
   "id": "0ae9adbf-573a-4893-85f9-2e15aa3d49ec",
   "metadata": {},
   "outputs": [
    {
     "data": {
      "text/plain": [
       "array([0.02777778, 0.05555556, 0.08333333, 0.11111111, 0.13888889,\n",
       "       0.16666667, 0.13888889, 0.11111111, 0.08333333, 0.05555556,\n",
       "       0.02777778])"
      ]
     },
     "execution_count": 27,
     "metadata": {},
     "output_type": "execute_result"
    }
   ],
   "source": [
    "psum_num = np.convolve([1/6, 1/6, 1/6, 1/6, 1/6, 1/6], [1/6, 1/6, 1/6, 1/6, 1/6, 1/6])\n",
    "psum_num"
   ]
  },
  {
   "cell_type": "markdown",
   "id": "62693276-4574-4dca-82fd-213461c856fe",
   "metadata": {},
   "source": [
    "3) Calculate the mean and the variance of the distribution in problem 2. Hint: this is surprisingly tricky, make sure your result makes sense."
   ]
  },
  {
   "cell_type": "code",
   "execution_count": null,
   "id": "506ce574-135c-45ec-95d0-b64fc411a8d6",
   "metadata": {},
   "outputs": [],
   "source": []
  }
 ],
 "metadata": {
  "kernelspec": {
   "display_name": "Python 3 (ipykernel)",
   "language": "python",
   "name": "python3"
  },
  "language_info": {
   "codemirror_mode": {
    "name": "ipython",
    "version": 3
   },
   "file_extension": ".py",
   "mimetype": "text/x-python",
   "name": "python",
   "nbconvert_exporter": "python",
   "pygments_lexer": "ipython3",
   "version": "3.9.12"
  }
 },
 "nbformat": 4,
 "nbformat_minor": 5
}
